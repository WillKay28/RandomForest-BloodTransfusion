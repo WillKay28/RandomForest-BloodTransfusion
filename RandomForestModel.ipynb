{
 "cells": [
  {
   "cell_type": "markdown",
   "id": "8379fb58",
   "metadata": {},
   "source": [
    "# Random Forest Modeling of Blood Transfusion Data\n",
    "In this project, we implement Random Forest models on blood transfusion data to predict whether an individual donates blood or not in March 2007. "
   ]
  },
  {
   "cell_type": "markdown",
   "id": "66a81952",
   "metadata": {},
   "source": [
    "### Data Source\n",
    "The data is taken from the Blood Transfusion Service Center in Hsin-Chu City in Taiwan. The data is a multivariate data comprising of 5 attributes and 748 donor observations."
   ]
  },
  {
   "cell_type": "code",
   "execution_count": 1,
   "id": "fc3dd705",
   "metadata": {},
   "outputs": [],
   "source": [
    "import pandas as pd\n",
    "import numpy as np\n",
    "import seaborn as sns\n",
    "from matplotlib import pyplot as plt\n",
    "from sklearn.model_selection import train_test_split"
   ]
  },
  {
   "cell_type": "code",
   "execution_count": 2,
   "id": "b82a65f5",
   "metadata": {},
   "outputs": [
    {
     "data": {
      "text/html": [
       "<div>\n",
       "<style scoped>\n",
       "    .dataframe tbody tr th:only-of-type {\n",
       "        vertical-align: middle;\n",
       "    }\n",
       "\n",
       "    .dataframe tbody tr th {\n",
       "        vertical-align: top;\n",
       "    }\n",
       "\n",
       "    .dataframe thead th {\n",
       "        text-align: right;\n",
       "    }\n",
       "</style>\n",
       "<table border=\"1\" class=\"dataframe\">\n",
       "  <thead>\n",
       "    <tr style=\"text-align: right;\">\n",
       "      <th></th>\n",
       "      <th>Recency (months)</th>\n",
       "      <th>Frequency (times)</th>\n",
       "      <th>Monetary (c.c. blood)</th>\n",
       "      <th>Time (months)</th>\n",
       "      <th>whether he/she donated blood in March 2007</th>\n",
       "    </tr>\n",
       "  </thead>\n",
       "  <tbody>\n",
       "    <tr>\n",
       "      <th>0</th>\n",
       "      <td>2</td>\n",
       "      <td>50</td>\n",
       "      <td>12500</td>\n",
       "      <td>98</td>\n",
       "      <td>1</td>\n",
       "    </tr>\n",
       "    <tr>\n",
       "      <th>1</th>\n",
       "      <td>0</td>\n",
       "      <td>13</td>\n",
       "      <td>3250</td>\n",
       "      <td>28</td>\n",
       "      <td>1</td>\n",
       "    </tr>\n",
       "    <tr>\n",
       "      <th>2</th>\n",
       "      <td>1</td>\n",
       "      <td>16</td>\n",
       "      <td>4000</td>\n",
       "      <td>35</td>\n",
       "      <td>1</td>\n",
       "    </tr>\n",
       "    <tr>\n",
       "      <th>3</th>\n",
       "      <td>2</td>\n",
       "      <td>20</td>\n",
       "      <td>5000</td>\n",
       "      <td>45</td>\n",
       "      <td>1</td>\n",
       "    </tr>\n",
       "    <tr>\n",
       "      <th>4</th>\n",
       "      <td>1</td>\n",
       "      <td>24</td>\n",
       "      <td>6000</td>\n",
       "      <td>77</td>\n",
       "      <td>0</td>\n",
       "    </tr>\n",
       "  </tbody>\n",
       "</table>\n",
       "</div>"
      ],
      "text/plain": [
       "   Recency (months)  Frequency (times)  Monetary (c.c. blood)  Time (months)  \\\n",
       "0                 2                 50                  12500             98   \n",
       "1                 0                 13                   3250             28   \n",
       "2                 1                 16                   4000             35   \n",
       "3                 2                 20                   5000             45   \n",
       "4                 1                 24                   6000             77   \n",
       "\n",
       "   whether he/she donated blood in March 2007  \n",
       "0                                           1  \n",
       "1                                           1  \n",
       "2                                           1  \n",
       "3                                           1  \n",
       "4                                           0  "
      ]
     },
     "execution_count": 2,
     "metadata": {},
     "output_type": "execute_result"
    }
   ],
   "source": [
    "data = pd.read_csv(\"transfusion.data\", sep = \",\")\n",
    "data.head()"
   ]
  },
  {
   "cell_type": "markdown",
   "id": "7b1e9f0f",
   "metadata": {},
   "source": [
    "Each of the 748 donor data points include Recency (months since last donation), Frequency (total number of donation), Monetary (total blood donated in c.c.), Time (months since first donation) and a Target binary variable representing whether he/she donated blood in March 2007 (1: for donating blood, 0: for not donating blood)."
   ]
  },
  {
   "cell_type": "code",
   "execution_count": 3,
   "id": "4136869f",
   "metadata": {},
   "outputs": [
    {
     "name": "stdout",
     "output_type": "stream",
     "text": [
      "Recency (months)                              int64\n",
      "Frequency (times)                             int64\n",
      "Monetary (c.c. blood)                         int64\n",
      "Time (months)                                 int64\n",
      "whether he/she donated blood in March 2007    int64\n",
      "dtype: object\n",
      "748\n"
     ]
    }
   ],
   "source": [
    "print(data.dtypes)\n",
    "print(data.shape[0])"
   ]
  },
  {
   "cell_type": "code",
   "execution_count": 4,
   "id": "48213630",
   "metadata": {},
   "outputs": [
    {
     "name": "stdout",
     "output_type": "stream",
     "text": [
      "     Recency  Frequency  Monetary  Time  Target\n",
      "0          2         50     12500    98       1\n",
      "1          0         13      3250    28       1\n",
      "2          1         16      4000    35       1\n",
      "3          2         20      5000    45       1\n",
      "4          1         24      6000    77       0\n",
      "..       ...        ...       ...   ...     ...\n",
      "743       23          2       500    38       0\n",
      "744       21          2       500    52       0\n",
      "745       23          3       750    62       0\n",
      "746       39          1       250    39       0\n",
      "747       72          1       250    72       0\n",
      "\n",
      "[748 rows x 5 columns]\n"
     ]
    }
   ],
   "source": [
    "inputs = data.rename(columns={'Recency (months)': 'Recency', 'Frequency (times)': 'Frequency', \n",
    "                                'Monetary (c.c. blood)':'Monetary', 'Time (months)': 'Time', \n",
    "                               'whether he/she donated blood in March 2007': 'Target'})\n",
    "print(inputs)"
   ]
  },
  {
   "cell_type": "markdown",
   "id": "d3736aea",
   "metadata": {},
   "source": [
    "Some descriptive statistics of the attributes in the data"
   ]
  },
  {
   "cell_type": "code",
   "execution_count": 5,
   "id": "f8e5ffff",
   "metadata": {},
   "outputs": [
    {
     "data": {
      "text/html": [
       "<div>\n",
       "<style scoped>\n",
       "    .dataframe tbody tr th:only-of-type {\n",
       "        vertical-align: middle;\n",
       "    }\n",
       "\n",
       "    .dataframe tbody tr th {\n",
       "        vertical-align: top;\n",
       "    }\n",
       "\n",
       "    .dataframe thead th {\n",
       "        text-align: right;\n",
       "    }\n",
       "</style>\n",
       "<table border=\"1\" class=\"dataframe\">\n",
       "  <thead>\n",
       "    <tr style=\"text-align: right;\">\n",
       "      <th></th>\n",
       "      <th>Recency</th>\n",
       "      <th>Frequency</th>\n",
       "      <th>Monetary</th>\n",
       "      <th>Time</th>\n",
       "    </tr>\n",
       "  </thead>\n",
       "  <tbody>\n",
       "    <tr>\n",
       "      <th>count</th>\n",
       "      <td>748.000000</td>\n",
       "      <td>748.000000</td>\n",
       "      <td>748.000000</td>\n",
       "      <td>748.000000</td>\n",
       "    </tr>\n",
       "    <tr>\n",
       "      <th>mean</th>\n",
       "      <td>9.506684</td>\n",
       "      <td>5.514706</td>\n",
       "      <td>1378.676471</td>\n",
       "      <td>34.282086</td>\n",
       "    </tr>\n",
       "    <tr>\n",
       "      <th>std</th>\n",
       "      <td>8.095396</td>\n",
       "      <td>5.839307</td>\n",
       "      <td>1459.826781</td>\n",
       "      <td>24.376714</td>\n",
       "    </tr>\n",
       "    <tr>\n",
       "      <th>min</th>\n",
       "      <td>0.000000</td>\n",
       "      <td>1.000000</td>\n",
       "      <td>250.000000</td>\n",
       "      <td>2.000000</td>\n",
       "    </tr>\n",
       "    <tr>\n",
       "      <th>25%</th>\n",
       "      <td>2.750000</td>\n",
       "      <td>2.000000</td>\n",
       "      <td>500.000000</td>\n",
       "      <td>16.000000</td>\n",
       "    </tr>\n",
       "    <tr>\n",
       "      <th>median</th>\n",
       "      <td>7.000000</td>\n",
       "      <td>4.000000</td>\n",
       "      <td>1000.000000</td>\n",
       "      <td>28.000000</td>\n",
       "    </tr>\n",
       "    <tr>\n",
       "      <th>75%</th>\n",
       "      <td>14.000000</td>\n",
       "      <td>7.000000</td>\n",
       "      <td>1750.000000</td>\n",
       "      <td>50.000000</td>\n",
       "    </tr>\n",
       "    <tr>\n",
       "      <th>max</th>\n",
       "      <td>74.000000</td>\n",
       "      <td>50.000000</td>\n",
       "      <td>12500.000000</td>\n",
       "      <td>98.000000</td>\n",
       "    </tr>\n",
       "  </tbody>\n",
       "</table>\n",
       "</div>"
      ],
      "text/plain": [
       "           Recency   Frequency      Monetary        Time\n",
       "count   748.000000  748.000000    748.000000  748.000000\n",
       "mean      9.506684    5.514706   1378.676471   34.282086\n",
       "std       8.095396    5.839307   1459.826781   24.376714\n",
       "min       0.000000    1.000000    250.000000    2.000000\n",
       "25%       2.750000    2.000000    500.000000   16.000000\n",
       "median    7.000000    4.000000   1000.000000   28.000000\n",
       "75%      14.000000    7.000000   1750.000000   50.000000\n",
       "max      74.000000   50.000000  12500.000000   98.000000"
      ]
     },
     "execution_count": 5,
     "metadata": {},
     "output_type": "execute_result"
    }
   ],
   "source": [
    "data_new = inputs.drop('Target', axis = 'columns')\n",
    "Target = inputs['Target']\n",
    "\n",
    "desc_stats = data_new.describe()\n",
    "desc_stats.rename({'50%': 'median'}, inplace=True)\n",
    "desc_stats"
   ]
  },
  {
   "cell_type": "code",
   "execution_count": 6,
   "id": "bb722348",
   "metadata": {},
   "outputs": [
    {
     "data": {
      "text/plain": [
       "0    570\n",
       "1    178\n",
       "Name: Target, dtype: int64"
      ]
     },
     "execution_count": 6,
     "metadata": {},
     "output_type": "execute_result"
    }
   ],
   "source": [
    "inputs.Target.value_counts()"
   ]
  },
  {
   "cell_type": "code",
   "execution_count": 7,
   "id": "bd547373",
   "metadata": {},
   "outputs": [
    {
     "data": {
      "text/html": [
       "<div>\n",
       "<style scoped>\n",
       "    .dataframe tbody tr th:only-of-type {\n",
       "        vertical-align: middle;\n",
       "    }\n",
       "\n",
       "    .dataframe tbody tr th {\n",
       "        vertical-align: top;\n",
       "    }\n",
       "\n",
       "    .dataframe thead th {\n",
       "        text-align: right;\n",
       "    }\n",
       "</style>\n",
       "<table border=\"1\" class=\"dataframe\">\n",
       "  <thead>\n",
       "    <tr style=\"text-align: right;\">\n",
       "      <th></th>\n",
       "      <th>Recency</th>\n",
       "      <th>Frequency</th>\n",
       "      <th>Monetary</th>\n",
       "      <th>Time</th>\n",
       "    </tr>\n",
       "    <tr>\n",
       "      <th>Target</th>\n",
       "      <th></th>\n",
       "      <th></th>\n",
       "      <th></th>\n",
       "      <th></th>\n",
       "    </tr>\n",
       "  </thead>\n",
       "  <tbody>\n",
       "    <tr>\n",
       "      <th>0</th>\n",
       "      <td>10.771930</td>\n",
       "      <td>4.801754</td>\n",
       "      <td>1200.438596</td>\n",
       "      <td>34.770175</td>\n",
       "    </tr>\n",
       "    <tr>\n",
       "      <th>1</th>\n",
       "      <td>5.455056</td>\n",
       "      <td>7.797753</td>\n",
       "      <td>1949.438202</td>\n",
       "      <td>32.719101</td>\n",
       "    </tr>\n",
       "  </tbody>\n",
       "</table>\n",
       "</div>"
      ],
      "text/plain": [
       "          Recency  Frequency     Monetary       Time\n",
       "Target                                              \n",
       "0       10.771930   4.801754  1200.438596  34.770175\n",
       "1        5.455056   7.797753  1949.438202  32.719101"
      ]
     },
     "execution_count": 7,
     "metadata": {},
     "output_type": "execute_result"
    }
   ],
   "source": [
    "inputs.groupby('Target').mean()"
   ]
  },
  {
   "cell_type": "markdown",
   "id": "68169bd4",
   "metadata": {},
   "source": [
    "- On average, for people that donated blood in March 2007, \n",
    "    - it took 32 months after first donation, \n",
    "    - total blood donated in c.c. of 1949, \n",
    "    - total number of donation of approximately 8 times and  \n",
    "    - 5 months since last donation. \n",
    "\n",
    "- Likewise, for people that did not donate blood in March 2007, \n",
    "    - it took 34 months after first donation, \n",
    "    - total blood donated in c.c. of 1200, \n",
    "    - total number of donation of approximately 5 times and \n",
    "    - 10 months since last donation."
   ]
  },
  {
   "cell_type": "code",
   "execution_count": 8,
   "id": "e8e5677d",
   "metadata": {},
   "outputs": [
    {
     "data": {
      "text/html": [
       "<div>\n",
       "<style scoped>\n",
       "    .dataframe tbody tr th:only-of-type {\n",
       "        vertical-align: middle;\n",
       "    }\n",
       "\n",
       "    .dataframe tbody tr th {\n",
       "        vertical-align: top;\n",
       "    }\n",
       "\n",
       "    .dataframe thead th {\n",
       "        text-align: right;\n",
       "    }\n",
       "</style>\n",
       "<table border=\"1\" class=\"dataframe\">\n",
       "  <thead>\n",
       "    <tr style=\"text-align: right;\">\n",
       "      <th></th>\n",
       "      <th>Recency</th>\n",
       "      <th>Frequency</th>\n",
       "      <th>Monetary</th>\n",
       "      <th>Time</th>\n",
       "    </tr>\n",
       "    <tr>\n",
       "      <th>Target</th>\n",
       "      <th></th>\n",
       "      <th></th>\n",
       "      <th></th>\n",
       "      <th></th>\n",
       "    </tr>\n",
       "  </thead>\n",
       "  <tbody>\n",
       "    <tr>\n",
       "      <th>0</th>\n",
       "      <td>11.0</td>\n",
       "      <td>3.0</td>\n",
       "      <td>750.0</td>\n",
       "      <td>28.0</td>\n",
       "    </tr>\n",
       "    <tr>\n",
       "      <th>1</th>\n",
       "      <td>4.0</td>\n",
       "      <td>6.0</td>\n",
       "      <td>1500.0</td>\n",
       "      <td>28.0</td>\n",
       "    </tr>\n",
       "  </tbody>\n",
       "</table>\n",
       "</div>"
      ],
      "text/plain": [
       "        Recency  Frequency  Monetary  Time\n",
       "Target                                    \n",
       "0          11.0        3.0     750.0  28.0\n",
       "1           4.0        6.0    1500.0  28.0"
      ]
     },
     "execution_count": 8,
     "metadata": {},
     "output_type": "execute_result"
    }
   ],
   "source": [
    "inputs.groupby('Target').median()"
   ]
  },
  {
   "cell_type": "markdown",
   "id": "9fafeab7",
   "metadata": {},
   "source": [
    "### Examining Distribution of Blood Transfusion Data Attributes\n",
    "Make a histogram and density plot of the four (4) features."
   ]
  },
  {
   "cell_type": "code",
   "execution_count": 9,
   "id": "c1de7a1b",
   "metadata": {},
   "outputs": [
    {
     "name": "stderr",
     "output_type": "stream",
     "text": [
      "/Users/paa.willie/opt/anaconda3/lib/python3.9/site-packages/seaborn/distributions.py:2619: FutureWarning: `distplot` is a deprecated function and will be removed in a future version. Please adapt your code to use either `displot` (a figure-level function with similar flexibility) or `histplot` (an axes-level function for histograms).\n",
      "  warnings.warn(msg, FutureWarning)\n"
     ]
    },
    {
     "data": {
      "text/plain": [
       "<AxesSubplot:title={'center':'Distribution of Months since last donation'}, xlabel='Recency', ylabel='Frequency'>"
      ]
     },
     "execution_count": 9,
     "metadata": {},
     "output_type": "execute_result"
    },
    {
     "data": {
      "image/png": "[encoded data removed]",
      "text/plain": [
       "<Figure size 432x288 with 1 Axes>"
      ]
     },
     "metadata": {
      "needs_background": "light"
     },
     "output_type": "display_data"
    }
   ],
   "source": [
    "ax = plt.axes()\n",
    "ax.set(xlabel='Recency (months)', ylabel='Frequency', title='Distribution of Months since last donation');\n",
    "sns.distplot(inputs.Recency, bins=10)"
   ]
  },
  {
   "cell_type": "code",
   "execution_count": 10,
   "id": "bba64970",
   "metadata": {},
   "outputs": [
    {
     "name": "stderr",
     "output_type": "stream",
     "text": [
      "/Users/paa.willie/opt/anaconda3/lib/python3.9/site-packages/seaborn/distributions.py:2619: FutureWarning: `distplot` is a deprecated function and will be removed in a future version. Please adapt your code to use either `displot` (a figure-level function with similar flexibility) or `histplot` (an axes-level function for histograms).\n",
      "  warnings.warn(msg, FutureWarning)\n"
     ]
    },
    {
     "data": {
      "text/plain": [
       "<AxesSubplot:title={'center':'Distribution of Total Number of Donation'}, xlabel='Frequency', ylabel='Frequency'>"
      ]
     },
     "execution_count": 10,
     "metadata": {},
     "output_type": "execute_result"
    },
    {
     "data": {
      "image/png": "[encoded data removed]",
      "text/plain": [
       "<Figure size 432x288 with 1 Axes>"
      ]
     },
     "metadata": {
      "needs_background": "light"
     },
     "output_type": "display_data"
    }
   ],
   "source": [
    "ax = plt.axes()\n",
    "ax.set(xlabel='Frequency(months)', ylabel='Frequency', title='Distribution of Total Number of Donation');\n",
    "sns.distplot(inputs.Frequency, bins=10)"
   ]
  },
  {
   "cell_type": "code",
   "execution_count": 11,
   "id": "bd93134f",
   "metadata": {},
   "outputs": [
    {
     "name": "stderr",
     "output_type": "stream",
     "text": [
      "/Users/paa.willie/opt/anaconda3/lib/python3.9/site-packages/seaborn/distributions.py:2619: FutureWarning: `distplot` is a deprecated function and will be removed in a future version. Please adapt your code to use either `displot` (a figure-level function with similar flexibility) or `histplot` (an axes-level function for histograms).\n",
      "  warnings.warn(msg, FutureWarning)\n"
     ]
    },
    {
     "data": {
      "text/plain": [
       "<AxesSubplot:title={'center':'Distribution of Total Blood Donated in c.c.'}, xlabel='Frequency', ylabel='Frequency'>"
      ]
     },
     "execution_count": 11,
     "metadata": {},
     "output_type": "execute_result"
    },
    {
     "data": {
      "image/png": "[encoded data removed]",
      "text/plain": [
       "<Figure size 432x288 with 1 Axes>"
      ]
     },
     "metadata": {
      "needs_background": "light"
     },
     "output_type": "display_data"
    }
   ],
   "source": [
    "ax = plt.axes()\n",
    "ax.set(xlabel='Monetary', ylabel='Frequency', title='Distribution of Total Blood Donated in c.c.');\n",
    "sns.distplot(inputs.Frequency, bins=10)"
   ]
  },
  {
   "cell_type": "code",
   "execution_count": 12,
   "id": "e68bcb2d",
   "metadata": {},
   "outputs": [
    {
     "name": "stderr",
     "output_type": "stream",
     "text": [
      "/Users/paa.willie/opt/anaconda3/lib/python3.9/site-packages/seaborn/distributions.py:2619: FutureWarning: `distplot` is a deprecated function and will be removed in a future version. Please adapt your code to use either `displot` (a figure-level function with similar flexibility) or `histplot` (an axes-level function for histograms).\n",
      "  warnings.warn(msg, FutureWarning)\n"
     ]
    },
    {
     "data": {
      "text/plain": [
       "<AxesSubplot:title={'center':'Distribution of Months Since First Donation'}, xlabel='Time', ylabel='Frequency'>"
      ]
     },
     "execution_count": 12,
     "metadata": {},
     "output_type": "execute_result"
    },
    {
     "data": {
      "image/png": "[encoded data removed]",
      "text/plain": [
       "<Figure size 432x288 with 1 Axes>"
      ]
     },
     "metadata": {
      "needs_background": "light"
     },
     "output_type": "display_data"
    }
   ],
   "source": [
    "ax = plt.axes()\n",
    "ax.set(xlabel='Time', ylabel='Frequency', title='Distribution of Months Since First Donation');\n",
    "sns.distplot(inputs.Time, bins=10)"
   ]
  },
  {
   "cell_type": "markdown",
   "id": "3707bea2",
   "metadata": {},
   "source": [
    "#### Hexbin Plots of Attributes VS Target Variable"
   ]
  },
  {
   "cell_type": "code",
   "execution_count": 13,
   "id": "9dc5a202",
   "metadata": {},
   "outputs": [
    {
     "name": "stdout",
     "output_type": "stream",
     "text": [
      "<seaborn.axisgrid.JointGrid object at 0x7fe511e124f0>\n",
      "<seaborn.axisgrid.JointGrid object at 0x7fe511e12400>\n"
     ]
    },
    {
     "data": {
      "image/png": "[encoded data removed]",
      "text/plain": [
       "<Figure size 432x432 with 3 Axes>"
      ]
     },
     "metadata": {
      "needs_background": "light"
     },
     "output_type": "display_data"
    },
    {
     "data": {
      "image/png": "[encoded data removed]",
      "text/plain": [
       "<Figure size 432x432 with 3 Axes>"
      ]
     },
     "metadata": {
      "needs_background": "light"
     },
     "output_type": "display_data"
    }
   ],
   "source": [
    "print(sns.jointplot(x = inputs['Recency'], y = inputs['Target'], kind = 'hex'))\n",
    "print(sns.jointplot(x = inputs['Frequency'], y = inputs['Target'], kind = 'hex'))"
   ]
  },
  {
   "cell_type": "code",
   "execution_count": 14,
   "id": "8f34f9cf",
   "metadata": {},
   "outputs": [
    {
     "name": "stdout",
     "output_type": "stream",
     "text": [
      "<seaborn.axisgrid.JointGrid object at 0x7fe512525a60>\n",
      "<seaborn.axisgrid.JointGrid object at 0x7fe51225ef10>\n"
     ]
    },
    {
     "data": {
      "image/png": "[encoded data removed]",
      "text/plain": [
       "<Figure size 432x432 with 3 Axes>"
      ]
     },
     "metadata": {
      "needs_background": "light"
     },
     "output_type": "display_data"
    },
    {
     "data": {
      "image/png": "[encoded data removed]",
      "text/plain": [
       "<Figure size 432x432 with 3 Axes>"
      ]
     },
     "metadata": {
      "needs_background": "light"
     },
     "output_type": "display_data"
    }
   ],
   "source": [
    "print(sns.jointplot(x = inputs['Monetary'], y = inputs['Target'], kind = 'hex'))\n",
    "print(sns.jointplot(x = inputs['Time'], y = inputs['Target'], kind = 'hex'))"
   ]
  },
  {
   "cell_type": "code",
   "execution_count": 15,
   "id": "849a4a8b",
   "metadata": {},
   "outputs": [
    {
     "data": {
      "image/png": "[encoded data removed]",
      "text/plain": [
       "<Figure size 432x288 with 4 Axes>"
      ]
     },
     "metadata": {
      "needs_background": "light"
     },
     "output_type": "display_data"
    }
   ],
   "source": [
    "inputs.boxplot(by = 'Target');"
   ]
  },
  {
   "cell_type": "markdown",
   "id": "a8f6e345",
   "metadata": {},
   "source": [
    "### Modeling\n",
    "Before we begin the modeling of the data, we need to split the data into training (used to fit the machine learning model) and test sets (used to evaluate the fit machine learning model). The objective is to estimate the performance of the machine learning model on new data: data not used to train the model. We split the dataset so that 67% is used to train the model and 33% is used to evaluate it. This split is chosen arbitrarily."
   ]
  },
  {
   "cell_type": "code",
   "execution_count": 16,
   "id": "d63aa9e6",
   "metadata": {},
   "outputs": [
    {
     "name": "stdout",
     "output_type": "stream",
     "text": [
      "247\n",
      "501\n"
     ]
    }
   ],
   "source": [
    "X_train, X_test, y_train, y_test = train_test_split(inputs.drop(['Target'], axis = 'columns'), inputs.Target, test_size=0.33)\n",
    "print(len(X_test))\n",
    "print(len(X_train))"
   ]
  },
  {
   "cell_type": "markdown",
   "id": "b3c34f05",
   "metadata": {},
   "source": [
    "Now that we have successfully split our data into training and testing sets, let start defining and fitting the model on the training dataset."
   ]
  },
  {
   "cell_type": "markdown",
   "id": "e3c1e776",
   "metadata": {},
   "source": [
    "##### 1. Random Forest Model\n",
    "This model is an ensemble of decision tree models. It combines many decision trees and a vote is casted at the final level to make a decision. This makes it more robust as compared to the decision tree model. "
   ]
  },
  {
   "cell_type": "code",
   "execution_count": 17,
   "id": "5e2083f1",
   "metadata": {},
   "outputs": [
    {
     "data": {
      "text/plain": [
       "RandomForestClassifier(random_state=1)"
      ]
     },
     "execution_count": 17,
     "metadata": {},
     "output_type": "execute_result"
    }
   ],
   "source": [
    "from sklearn.ensemble import RandomForestClassifier\n",
    "RFC_model = RandomForestClassifier(random_state = 1)\n",
    "RFC_model.fit(X_train, y_train)"
   ]
  },
  {
   "cell_type": "markdown",
   "id": "2b3ddd60",
   "metadata": {},
   "source": [
    "Then use the fit model to make predictions and evaluate the predictions using the classification accuracy performance metric."
   ]
  },
  {
   "cell_type": "code",
   "execution_count": 18,
   "id": "6049f9e4",
   "metadata": {},
   "outputs": [],
   "source": [
    "y_pred = RFC_model.predict(X_test)"
   ]
  },
  {
   "cell_type": "code",
   "execution_count": 19,
   "id": "c907c855",
   "metadata": {},
   "outputs": [
    {
     "data": {
      "text/plain": [
       "0.7206477732793523"
      ]
     },
     "execution_count": 19,
     "metadata": {},
     "output_type": "execute_result"
    }
   ],
   "source": [
    "RFC_model.score(X_test, y_test)"
   ]
  },
  {
   "cell_type": "markdown",
   "id": "e95905be",
   "metadata": {},
   "source": [
    "The random forest model is evaluated on the test set and its performance when making predictions on new data has an accuracy of about 73%. Now, let's examine the confusion matrix to observe the true negatives and true positives."
   ]
  },
  {
   "cell_type": "code",
   "execution_count": 20,
   "id": "a8024879",
   "metadata": {},
   "outputs": [
    {
     "data": {
      "text/plain": [
       "Text(15.0, 0.5, 'Actual')"
      ]
     },
     "execution_count": 20,
     "metadata": {},
     "output_type": "execute_result"
    },
    {
     "data": {
      "image/png": "[encoded data removed]",
      "text/plain": [
       "<Figure size 288x288 with 2 Axes>"
      ]
     },
     "metadata": {
      "needs_background": "light"
     },
     "output_type": "display_data"
    }
   ],
   "source": [
    "from sklearn.metrics import confusion_matrix\n",
    "cm = confusion_matrix(y_test, y_pred)\n",
    "\n",
    "plt.figure(figsize = (4, 4))\n",
    "sns.heatmap(cm, annot = True)\n",
    "plt.xlabel('Predicted')\n",
    "plt.ylabel('Actual')"
   ]
  },
  {
   "cell_type": "code",
   "execution_count": 21,
   "id": "40c7d72d",
   "metadata": {},
   "outputs": [
    {
     "name": "stdout",
     "output_type": "stream",
     "text": [
      "True Positives: 15\n",
      "False Positives: 35\n",
      "True Negatives: 163\n",
      "False Negatives: 34\n"
     ]
    }
   ],
   "source": [
    "TN, FP, FN, TP = confusion_matrix(y_test, y_pred).ravel()\n",
    "print(f'True Positives: {TP}')\n",
    "print(f'False Positives: {FP}')\n",
    "print(f'True Negatives: {TN}')\n",
    "print(f'False Negatives: {FN}')"
   ]
  },
  {
   "cell_type": "markdown",
   "id": "e390d32c",
   "metadata": {},
   "source": [
    "##### Sensitivy (or Recall or TPR)\n",
    "Now that we know the measures above we can measure the proportion of the actual positives that are accurately identified using the formula \n",
    "TP/(TP + FN). \n",
    "\n",
    "##### False Positive Rate (FPR)\n",
    "We can also measure the proportion of the false positives and the total number of actual negatives using the formula FP/(FP + TN). \n",
    "\n",
    "##### ROC CURVE\n",
    "We use the codes below to select the probabilities of the positive class only and write a function to convert the predictions according to some given thresholds. Finally, we create a list of TPRs and FPRs at varying thresholds and plot our Reciever Operating Characteristic or ROC curve. The ROC curve provides a visualization plot of TRP v FPR at various classification thresholds from 0 to 1. "
   ]
  },
  {
   "cell_type": "code",
   "execution_count": 22,
   "id": "d86a081b",
   "metadata": {},
   "outputs": [],
   "source": [
    "probs = RFC_model.predict_proba(X_test)[:, 1]"
   ]
  },
  {
   "cell_type": "code",
   "execution_count": 23,
   "id": "d265a376",
   "metadata": {},
   "outputs": [],
   "source": [
    "def conv_preds(threshold, probabilities):\n",
    "    return [1 if prob > threshold else 0 for prob in probabilities]"
   ]
  },
  {
   "cell_type": "code",
   "execution_count": 24,
   "id": "edc1f553",
   "metadata": {},
   "outputs": [],
   "source": [
    "ROC_vals = []\n",
    "for threshold in np.linspace(0, 1, 50):\n",
    "    preds = conv_preds(threshold, probs)\n",
    "    TN, FP, FN, TP = confusion_matrix(y_test, preds).ravel()\n",
    "    TPR = TP/(TP + FN)\n",
    "    FPR = FP/(FP + TN)\n",
    "    ROC_vals.append([TPR, FPR])\n",
    "TPR_vals, FPR_vals = zip(*ROC_vals)"
   ]
  },
  {
   "cell_type": "code",
   "execution_count": 25,
   "id": "1200d735",
   "metadata": {},
   "outputs": [
    {
     "data": {
      "image/png": "[encoded data removed]",
      "text/plain": [
       "<Figure size 576x360 with 1 Axes>"
      ]
     },
     "metadata": {
      "needs_background": "light"
     },
     "output_type": "display_data"
    }
   ],
   "source": [
    "fig, ax = plt.subplots(figsize = (8, 5))\n",
    "ax.plot(FPR_vals, TPR_vals, label = 'TPR v FPR')\n",
    "ax.plot(np.linspace(0, 1, 50), np.linspace(0, 1, 50), label = 'Baseline', linestyle = '-.')\n",
    "plt.title('ROC CURVE', fontsize = 15)\n",
    "plt.xlabel('FPR', fontsize = 12)\n",
    "plt.ylabel('TPR', fontsize = 12)\n",
    "plt.legend(fontsize = 10);\n"
   ]
  },
  {
   "cell_type": "code",
   "execution_count": 26,
   "id": "9bfe8e34",
   "metadata": {},
   "outputs": [
    {
     "data": {
      "text/plain": [
       "0.5"
      ]
     },
     "execution_count": 26,
     "metadata": {},
     "output_type": "execute_result"
    }
   ],
   "source": [
    "from sklearn.metrics import roc_auc_score\n",
    "roc_auc_score(y_test, preds)"
   ]
  },
  {
   "cell_type": "markdown",
   "id": "51b3f898",
   "metadata": {},
   "source": [
    "##### Discussion\n",
    "The random forest model tells us that of 191 people that actually did not donate blood in March of 2007, we predicted 162 people did not donate blood correctly. This means that we were correct 85% of the time in predicting whether a person donated blood or not in March 2007. Also, out of 57 people that actually donated blood in March 2007, we predicted correctly only 33% of the time. The score is closer to 0.5 indicating that the Random Forest Model performs as badly as a coin flip. In conclusion, this model performs badly with the blood transfusion data. Perhaps the same model with different parameters or a different classification model will perform better."
   ]
  },
  {
   "cell_type": "markdown",
   "id": "ff4773ee",
   "metadata": {},
   "source": [
    "### Random Forest Hyperparameters\n",
    "Using the scikit-learn API to evaluate and use random forest ensembles did not give the best results, so let’s look at configuring the model by tuning some of the hyperparameters of the random forest model and its effect on model performance."
   ]
  },
  {
   "cell_type": "markdown",
   "id": "919b00f7",
   "metadata": {},
   "source": [
    "###### Number of Samples\n",
    "In the previous model, we used the whole training data to train the decision tree. i.e. the bootstrap argument is set to False. We will turn the bootstrap argument on so that each decision tree in the ensemble is fit on a bootstrap sample drawn form the training data. \n",
    "We are gonna utilize different bootstrap samples from 10% to 100% on the random forest algorithm to examine our model."
   ]
  },
  {
   "cell_type": "code",
   "execution_count": 27,
   "id": "992e870c",
   "metadata": {},
   "outputs": [],
   "source": [
    "from sklearn.model_selection import cross_val_score\n",
    "from sklearn.model_selection import RepeatedStratifiedKFold"
   ]
  },
  {
   "cell_type": "markdown",
   "id": "9fb204fc",
   "metadata": {},
   "source": [
    "The function below gets a list of models to evaluate "
   ]
  },
  {
   "cell_type": "code",
   "execution_count": 28,
   "id": "7bf05e51",
   "metadata": {},
   "outputs": [],
   "source": [
    "def diff_models():\n",
    "    models = dict()\n",
    "    \n",
    "    # ratios from 10% to 100% in increments of 10%\n",
    "    for i in np.arange(0.1, 1.1, 0.1):\n",
    "        label = '%.1f' % i\n",
    "        \n",
    "        # if max_samples=None use 100% \n",
    "        if i == 1.0:\n",
    "            i = None\n",
    "        models[label] = RandomForestClassifier(max_samples = i)\n",
    "    return models"
   ]
  },
  {
   "cell_type": "markdown",
   "id": "7e4ae7ba",
   "metadata": {},
   "source": [
    "The function below evaluates a model using cross-validation"
   ]
  },
  {
   "cell_type": "code",
   "execution_count": 29,
   "id": "7c39555d",
   "metadata": {},
   "outputs": [],
   "source": [
    "# accuracy scoring and n_jobs=-1 means use all processors\n",
    "def eval_model(model, data_new, Target):\n",
    "    ev = RepeatedStratifiedKFold(n_splits = 10, n_repeats = 4, random_state = 2)\n",
    "    scores = cross_val_score(model, data_new, Target, scoring = 'accuracy', cv = ev, n_jobs = -1)\n",
    "    return scores"
   ]
  },
  {
   "cell_type": "code",
   "execution_count": 30,
   "id": "ecbaf52f",
   "metadata": {},
   "outputs": [
    {
     "name": "stdout",
     "output_type": "stream",
     "text": [
      "0.1 -> 0.79\n",
      "0.2 -> 0.78\n",
      "0.3 -> 0.77\n",
      "0.4 -> 0.77\n",
      "0.5 -> 0.76\n",
      "0.6 -> 0.76\n",
      "0.7 -> 0.75\n",
      "0.8 -> 0.74\n",
      "0.9 -> 0.74\n",
      "1.0 -> 0.74\n"
     ]
    },
    {
     "data": {
      "image/png": "[encoded data removed]",
      "text/plain": [
       "<Figure size 432x288 with 1 Axes>"
      ]
     },
     "metadata": {
      "needs_background": "light"
     },
     "output_type": "display_data"
    }
   ],
   "source": [
    "models = diff_models()\n",
    "results, names = list(), list()\n",
    "for j, model in models.items():\n",
    "    scores = eval_model(model, data_new, Target)\n",
    "    results.append(scores)\n",
    "    names.append(j)\n",
    "    print('%s -> %.2f' % (j, np.mean(scores))) \n",
    "plt.boxplot(results, labels = names, showmeans = True)\n",
    "plt.show()"
   ]
  },
  {
   "cell_type": "markdown",
   "id": "382b5a0a",
   "metadata": {},
   "source": [
    "Our results suggest that using a bootstrap sample size that is equal to 10% of the training data gives the best results of approximately 80% accuracy. The boxplot above also depict the distribution of accuracy scores for each sample size of the bootstrap."
   ]
  },
  {
   "cell_type": "markdown",
   "id": "39076de5",
   "metadata": {},
   "source": [
    "###### Number of Features\n",
    "In this subsection, we carry-out the modeling by configuring random forest model using the most important features from the number of features that is randomly sampled for each split point. We'll explore number of features from 1 to 4. "
   ]
  },
  {
   "cell_type": "code",
   "execution_count": 31,
   "id": "71c5499c",
   "metadata": {},
   "outputs": [],
   "source": [
    "def diff_models1():\n",
    "    models = dict()\n",
    "    \n",
    "    # number of features from 1 to 4\n",
    "    for i in range(1, 5):\n",
    "        models[str(i)] = RandomForestClassifier(max_features = i)\n",
    "    return models"
   ]
  },
  {
   "cell_type": "code",
   "execution_count": 32,
   "id": "4e8e9e76",
   "metadata": {},
   "outputs": [
    {
     "name": "stdout",
     "output_type": "stream",
     "text": [
      "1 -> 0.74  0.042\n",
      "2 -> 0.74  0.043\n",
      "3 -> 0.73  0.045\n",
      "4 -> 0.73  0.049\n"
     ]
    },
    {
     "data": {
      "image/png": "[encoded data removed]",
      "text/plain": [
       "<Figure size 432x288 with 1 Axes>"
      ]
     },
     "metadata": {
      "needs_background": "light"
     },
     "output_type": "display_data"
    }
   ],
   "source": [
    "models = diff_models1()\n",
    "results, names = list(), list()\n",
    "for j, model in models.items():\n",
    "    scores = eval_model(model, data_new, Target)\n",
    "    results.append(scores)\n",
    "    names.append(j)\n",
    "    print('%s -> %.2f  %.3f' % (j, np.mean(scores), np.std(scores))) \n",
    "\n",
    "# comparison of model performance\n",
    "plt.boxplot(results, labels = names, showmeans = True)\n",
    "plt.show()"
   ]
  },
  {
   "cell_type": "markdown",
   "id": "89c9a0e2",
   "metadata": {},
   "source": [
    "###### Number of Trees\n",
    "Another hyperparameter for configuring random forest is the number of trees. Given the stochastic nature of the learning algorithm of random forest, it is somewhat immune to overfitting the training set. In the code below, we explore the effects of changes in the number of trees on the random forest model. "
   ]
  },
  {
   "cell_type": "code",
   "execution_count": 33,
   "id": "61327d09",
   "metadata": {},
   "outputs": [],
   "source": [
    "def diff_models2():\n",
    "    models = dict()\n",
    "    \n",
    "    # number of trees from 10 to 500\n",
    "    num_trees = [10, 50, 100, 150, 200, 250, 300, 350, 400, 450, 500]\n",
    "    for i in num_trees:\n",
    "        models[str(i)] = RandomForestClassifier(n_estimators = i)\n",
    "    return models"
   ]
  },
  {
   "cell_type": "code",
   "execution_count": 35,
   "id": "08bfd943",
   "metadata": {},
   "outputs": [
    {
     "name": "stdout",
     "output_type": "stream",
     "text": [
      "10 -> 0.74  0.049\n",
      "50 -> 0.74  0.046\n",
      "100 -> 0.74  0.040\n",
      "150 -> 0.73  0.044\n",
      "200 -> 0.74  0.042\n",
      "250 -> 0.73  0.039\n",
      "300 -> 0.73  0.043\n",
      "350 -> 0.74  0.046\n",
      "400 -> 0.74  0.044\n",
      "450 -> 0.74  0.044\n",
      "500 -> 0.73  0.042\n"
     ]
    },
    {
     "data": {
      "image/png": "[encoded data removed]",
      "text/plain": [
       "<Figure size 432x288 with 1 Axes>"
      ]
     },
     "metadata": {
      "needs_background": "light"
     },
     "output_type": "display_data"
    }
   ],
   "source": [
    "models = diff_models2()\n",
    "results, names = list(), list()\n",
    "for j, model in models.items():\n",
    "    scores = eval_model(model, data_new, Target)\n",
    "    results.append(scores)\n",
    "    names.append(j)\n",
    "    print('%s -> %.2f  %.3f' % (j, np.mean(scores), np.std(scores))) \n",
    "\n",
    "# comparison of model performance\n",
    "plt.boxplot(results, labels = names, showmeans = True)\n",
    "plt.show()"
   ]
  },
  {
   "cell_type": "markdown",
   "id": "ca51b510",
   "metadata": {},
   "source": [
    "We observe that the accuracy fluctuates between 73% and 74%. There's not a lot of fluctuations in accuracy based on the number of trees used."
   ]
  },
  {
   "cell_type": "markdown",
   "id": "a6681acf",
   "metadata": {},
   "source": [
    "###### Depth of Trees\n",
    "The maximum depth of trees used in the ensemble is also important. By default, trees are not pruned but are constructed to any arbitrary depth. Let examine the results we get from fixing a depth for the trees."
   ]
  },
  {
   "cell_type": "code",
   "execution_count": 36,
   "id": "a7a8c417",
   "metadata": {},
   "outputs": [],
   "source": [
    "def diff_models3():\n",
    "    models = dict()\n",
    "    \n",
    "    # number of trees from 10 to 500\n",
    "    depths = [i for i in range(1, 5)] + [None]\n",
    "    for i in depths:\n",
    "        models[str(i)] = RandomForestClassifier(max_depth = i)\n",
    "    return models"
   ]
  },
  {
   "cell_type": "code",
   "execution_count": 37,
   "id": "b62b4c09",
   "metadata": {},
   "outputs": [
    {
     "name": "stdout",
     "output_type": "stream",
     "text": [
      "1 -> 0.76  0.004\n",
      "2 -> 0.76  0.010\n",
      "3 -> 0.77  0.023\n",
      "4 -> 0.79  0.029\n",
      "None -> 0.74  0.044\n"
     ]
    },
    {
     "data": {
      "image/png": "[encoded data removed]",
      "text/plain": [
       "<Figure size 432x288 with 1 Axes>"
      ]
     },
     "metadata": {
      "needs_background": "light"
     },
     "output_type": "display_data"
    }
   ],
   "source": [
    "models = diff_models3()\n",
    "results, names = list(), list()\n",
    "for j, model in models.items():\n",
    "    scores = eval_model(model, data_new, Target)\n",
    "    results.append(scores)\n",
    "    names.append(j)\n",
    "    print('%s -> %.2f  %.3f' % (j, np.mean(scores), np.std(scores))) \n",
    " \n",
    "# comparison of model performance\n",
    "plt.boxplot(results, labels = names, showmeans = True)\n",
    "plt.show()"
   ]
  },
  {
   "cell_type": "markdown",
   "id": "f7fcffe1",
   "metadata": {},
   "source": [
    "We observe an improvement in the performance of the model with increase in tree depth to 4. This supports the default of fixing no maximum depth."
   ]
  },
  {
   "cell_type": "markdown",
   "id": "9e5f0104",
   "metadata": {},
   "source": [
    "#### Reference\n",
    "Yeh, I-Cheng, Yang, King-Jang, and Ting, Tao-Ming, \"Knowledge discovery on RFM \n",
    "model using Bernoulli sequence, \"Expert Systems with Applications, 2008 \n",
    "(doi:10.1016/j.eswa.2008.07.018)."
   ]
  },
  {
   "cell_type": "code",
   "execution_count": null,
   "id": "dbc85c4f",
   "metadata": {},
   "outputs": [],
   "source": []
  }
 ],
 "metadata": {
  "kernelspec": {
   "display_name": "Python 3 (ipykernel)",
   "language": "python",
   "name": "python3"
  },
  "language_info": {
   "codemirror_mode": {
    "name": "ipython",
    "version": 3
   },
   "file_extension": ".py",
   "mimetype": "text/x-python",
   "name": "python",
   "nbconvert_exporter": "python",
   "pygments_lexer": "ipython3",
   "version": "3.9.7"
  }
 },
 "nbformat": 4,
 "nbformat_minor": 5
}
